{
  "nbformat": 4,
  "nbformat_minor": 0,
  "metadata": {
    "colab": {
      "provenance": [],
      "collapsed_sections": [],
      "authorship_tag": "ABX9TyOAntANj/7BMDG9JTYccyfv",
      "include_colab_link": true
    },
    "kernelspec": {
      "name": "python3",
      "display_name": "Python 3"
    },
    "language_info": {
      "name": "python"
    }
  },
  "cells": [
    {
      "cell_type": "markdown",
      "metadata": {
        "id": "view-in-github",
        "colab_type": "text"
      },
      "source": [
        "<a href=\"https://colab.research.google.com/github/Samuel-Njoroge/Python-Functions/blob/main/Python_funtions.ipynb\" target=\"_parent\"><img src=\"https://colab.research.google.com/assets/colab-badge.svg\" alt=\"Open In Colab\"/></a>"
      ]
    },
    {
      "cell_type": "markdown",
      "source": [
        "# **Fuctions**\n",
        "\n",
        "Blocks of reusable code.\n",
        "\n",
        "Declared using the word def"
      ],
      "metadata": {
        "id": "u60teVqjIDD1"
      }
    },
    {
      "cell_type": "code",
      "execution_count": 31,
      "metadata": {
        "colab": {
          "base_uri": "https://localhost:8080/"
        },
        "id": "3dAGFIdrZdP8",
        "outputId": "4a3194dd-0009-45f7-fc5e-38baa03e583e"
      },
      "outputs": [
        {
          "output_type": "execute_result",
          "data": {
            "text/plain": [
              "5"
            ]
          },
          "metadata": {},
          "execution_count": 31
        }
      ],
      "source": [
        "def sum(a, b):\n",
        "  return a + b\n",
        "sum(2,3)"
      ]
    },
    {
      "cell_type": "code",
      "source": [
        "#del - Deletes a function\n",
        "del(sum)"
      ],
      "metadata": {
        "id": "A1guDbsAII4P"
      },
      "execution_count": 32,
      "outputs": []
    },
    {
      "cell_type": "markdown",
      "source": [
        "*Lambda Expressions*\n",
        "\n",
        "An anonymous function without a name.\n",
        "\n",
        "lambda keywords:expression"
      ],
      "metadata": {
        "id": "sZ9XVEy3IDGN"
      }
    },
    {
      "cell_type": "code",
      "source": [
        "(lambda a, b: a**(b + 2)) (3, 4)"
      ],
      "metadata": {
        "colab": {
          "base_uri": "https://localhost:8080/"
        },
        "id": "sKYSCa-cII9U",
        "outputId": "5d23bd42-8735-4efb-c80c-e68cddaa740e"
      },
      "execution_count": null,
      "outputs": [
        {
          "output_type": "execute_result",
          "data": {
            "text/plain": [
              "729"
            ]
          },
          "metadata": {},
          "execution_count": 2
        }
      ]
    },
    {
      "cell_type": "code",
      "source": [
        "#lambda [arg1, arg2]:[expression]\n",
        "\n",
        "down = lambda e:e-2\n",
        "down(1)"
      ],
      "metadata": {
        "colab": {
          "base_uri": "https://localhost:8080/"
        },
        "id": "WZk51h46Oi51",
        "outputId": "dca8476b-3c4e-4f40-afe3-5946f0924733"
      },
      "execution_count": null,
      "outputs": [
        {
          "output_type": "execute_result",
          "data": {
            "text/plain": [
              "-1"
            ]
          },
          "metadata": {},
          "execution_count": 15
        }
      ]
    },
    {
      "cell_type": "markdown",
      "source": [
        "*When to use lambda expressions.*\n",
        "\n",
        "1. Executing only one statement."
      ],
      "metadata": {
        "id": "K_fOIzA9PC_F"
      }
    },
    {
      "cell_type": "code",
      "source": [
        "(lambda :print(\"Hello\"))()"
      ],
      "metadata": {
        "colab": {
          "base_uri": "https://localhost:8080/"
        },
        "id": "0xZW0J_LOi_J",
        "outputId": "947f82c6-4adb-4356-fffd-6c677ddd3cb5"
      },
      "execution_count": null,
      "outputs": [
        {
          "output_type": "stream",
          "name": "stdout",
          "text": [
            "Hello\n"
          ]
        }
      ]
    },
    {
      "cell_type": "markdown",
      "source": [
        "2. Executing a function just once."
      ],
      "metadata": {
        "id": "zqvFlGgyPdWY"
      }
    },
    {
      "cell_type": "code",
      "source": [
        "(lambda :print(\"Hello\"))()"
      ],
      "metadata": {
        "id": "wF7GJMzkOjQS",
        "colab": {
          "base_uri": "https://localhost:8080/"
        },
        "outputId": "2a20ffa7-59f8-4610-94e3-f81e8641b430"
      },
      "execution_count": 28,
      "outputs": [
        {
          "output_type": "stream",
          "name": "stdout",
          "text": [
            "Hello\n"
          ]
        }
      ]
    },
    {
      "cell_type": "markdown",
      "source": [
        "3. Passing a function to other functions"
      ],
      "metadata": {
        "id": "fFxfpnAdPsFE"
      }
    },
    {
      "cell_type": "code",
      "source": [
        "list(filter(lambda x: x%2 == 0, [1, 2, 3, 4, 5]))"
      ],
      "metadata": {
        "colab": {
          "base_uri": "https://localhost:8080/"
        },
        "id": "-xDoxZCOPsYG",
        "outputId": "d2aef69a-5683-42f5-8481-555f2d8b2ca1"
      },
      "execution_count": null,
      "outputs": [
        {
          "output_type": "execute_result",
          "data": {
            "text/plain": [
              "[2, 4]"
            ]
          },
          "metadata": {},
          "execution_count": 17
        }
      ]
    },
    {
      "cell_type": "markdown",
      "source": [
        "4. Returning a function from another"
      ],
      "metadata": {
        "id": "DRcQNL6vQFkm"
      }
    },
    {
      "cell_type": "code",
      "source": [
        "def power(n):\n",
        "  return lambda x:x**n\n",
        "print(power(3))"
      ],
      "metadata": {
        "colab": {
          "base_uri": "https://localhost:8080/"
        },
        "id": "GGFYBzohQMyQ",
        "outputId": "ab487f28-232a-4e04-fa35-5bda3d96f4f1"
      },
      "execution_count": null,
      "outputs": [
        {
          "output_type": "stream",
          "name": "stdout",
          "text": [
            "<function power.<locals>.<lambda> at 0x7ff8ac22b320>\n"
          ]
        }
      ]
    },
    {
      "cell_type": "markdown",
      "source": [
        "*Recursion*\n",
        "\n",
        "When a function calls itself"
      ],
      "metadata": {
        "id": "0KRITAVhIDIn"
      }
    },
    {
      "cell_type": "code",
      "source": [
        "#Recursion\n",
        "\n",
        "def factorial(num):\n",
        "  if num == 1:\n",
        "    return 1\n",
        "  return num *factorial(num-1)\n",
        "factorial(int(input()))"
      ],
      "metadata": {
        "colab": {
          "base_uri": "https://localhost:8080/"
        },
        "id": "iRuctnjeIJAP",
        "outputId": "36409d9c-fbbc-4127-d917-0f8a99a2add9"
      },
      "execution_count": null,
      "outputs": [
        {
          "name": "stdout",
          "output_type": "stream",
          "text": [
            "4\n"
          ]
        },
        {
          "output_type": "execute_result",
          "data": {
            "text/plain": [
              "24"
            ]
          },
          "metadata": {},
          "execution_count": 6
        }
      ]
    },
    {
      "cell_type": "code",
      "source": [
        "#Recursion\n",
        "\n",
        "def factorial(num):\n",
        "  res=1\n",
        "  while num >0:\n",
        "    res *= num\n",
        "    num -= 1\n",
        "  return res\n",
        "factorial(5)"
      ],
      "metadata": {
        "id": "1Vm8VsK7QGL9",
        "colab": {
          "base_uri": "https://localhost:8080/"
        },
        "outputId": "6356a087-388d-4471-918b-a731b6a81038"
      },
      "execution_count": 2,
      "outputs": [
        {
          "output_type": "execute_result",
          "data": {
            "text/plain": [
              "120"
            ]
          },
          "metadata": {},
          "execution_count": 2
        }
      ]
    },
    {
      "cell_type": "markdown",
      "source": [
        "*Pros.*\n",
        "1. Code is cleaner.\n",
        "2. Easier to code since it breaks tasks into small ones.\n",
        "3. Easier to generate a sequence.\n",
        "\n",
        "*Cons.*\n",
        "\n",
        "1. May be hard to follow\n",
        "2. Recursive calls take alot of time to follow and memory\n",
        "3. Not easy to debug  "
      ],
      "metadata": {
        "id": "0DEMSlLv9lo5"
      }
    },
    {
      "cell_type": "code",
      "source": [
        "#Recursion\n",
        "def sum_n(num):\n",
        "  if num == 1: return 1\n",
        "  return num + sum_n(num - 1)\n",
        "sum_n(7)\n"
      ],
      "metadata": {
        "colab": {
          "base_uri": "https://localhost:8080/"
        },
        "id": "X6YI30I7-ZXN",
        "outputId": "85b753b5-6d00-47a7-b0a4-82e5a7eabad4"
      },
      "execution_count": 3,
      "outputs": [
        {
          "output_type": "execute_result",
          "data": {
            "text/plain": [
              "28"
            ]
          },
          "metadata": {},
          "execution_count": 3
        }
      ]
    },
    {
      "cell_type": "markdown",
      "source": [
        "*Arguments*"
      ],
      "metadata": {
        "id": "Bp6sDCGHIDK2"
      }
    },
    {
      "cell_type": "code",
      "source": [
        "def show(*args):\n",
        "  for i in args:\n",
        "    print(i)\n",
        "show(*[1, 2, 3])"
      ],
      "metadata": {
        "colab": {
          "base_uri": "https://localhost:8080/"
        },
        "id": "rjK_WC47IL4w",
        "outputId": "ae990a97-d35f-451a-ad76-e74718d4268c"
      },
      "execution_count": null,
      "outputs": [
        {
          "output_type": "stream",
          "name": "stdout",
          "text": [
            "1\n",
            "2\n",
            "3\n"
          ]
        }
      ]
    },
    {
      "cell_type": "markdown",
      "source": [
        "*Built-in Functions.*\n",
        "\n",
        "Functions that are always available for use."
      ],
      "metadata": {
        "id": "w-YQUWV-IDNa"
      }
    },
    {
      "cell_type": "code",
      "source": [
        "#abs()\n",
        "#Returns the absolute value of a number\n",
        "abs(-7)"
      ],
      "metadata": {
        "id": "vZJGWQAnL52R",
        "colab": {
          "base_uri": "https://localhost:8080/"
        },
        "outputId": "d6003f8c-e45f-41b2-e139-3efa58495b68"
      },
      "execution_count": 4,
      "outputs": [
        {
          "output_type": "execute_result",
          "data": {
            "text/plain": [
              "7"
            ]
          },
          "metadata": {},
          "execution_count": 4
        }
      ]
    },
    {
      "cell_type": "code",
      "source": [
        "#all()\n",
        "#Returns True if all even values in an item have a boolean value True\n",
        "all({'*','',''})"
      ],
      "metadata": {
        "colab": {
          "base_uri": "https://localhost:8080/"
        },
        "id": "AltFaLzHAIgh",
        "outputId": "03bb54e4-0c26-467b-eb69-4170aa80b5be"
      },
      "execution_count": 5,
      "outputs": [
        {
          "output_type": "execute_result",
          "data": {
            "text/plain": [
              "False"
            ]
          },
          "metadata": {},
          "execution_count": 5
        }
      ]
    },
    {
      "cell_type": "code",
      "source": [
        "#any()\n",
        "#Returns True if  even one values in an item have a boolean value True\n",
        "any((1,1,0))"
      ],
      "metadata": {
        "colab": {
          "base_uri": "https://localhost:8080/"
        },
        "id": "P-dAQsojAIqL",
        "outputId": "d47656ee-6c11-438e-fb80-4195c0343ab4"
      },
      "execution_count": 7,
      "outputs": [
        {
          "output_type": "execute_result",
          "data": {
            "text/plain": [
              "True"
            ]
          },
          "metadata": {},
          "execution_count": 7
        }
      ]
    },
    {
      "cell_type": "code",
      "source": [
        "#asci()\n",
        "#Returns a printable presentation of an object\n",
        "ascii('s')"
      ],
      "metadata": {
        "colab": {
          "base_uri": "https://localhost:8080/",
          "height": 35
        },
        "id": "RcfXgdTXAItI",
        "outputId": "9b209cbf-948e-4103-f720-777966059425"
      },
      "execution_count": 8,
      "outputs": [
        {
          "output_type": "execute_result",
          "data": {
            "text/plain": [
              "\"'s'\""
            ],
            "application/vnd.google.colaboratory.intrinsic+json": {
              "type": "string"
            }
          },
          "metadata": {},
          "execution_count": 8
        }
      ]
    },
    {
      "cell_type": "code",
      "source": [
        "#bin()\n",
        "#Converts an integer into it's binary representation\n",
        "bin(7)"
      ],
      "metadata": {
        "colab": {
          "base_uri": "https://localhost:8080/",
          "height": 35
        },
        "id": "nMmFASpRBJfv",
        "outputId": "2a9c6d9b-8501-483b-9c51-644869722304"
      },
      "execution_count": 9,
      "outputs": [
        {
          "output_type": "execute_result",
          "data": {
            "text/plain": [
              "'0b111'"
            ],
            "application/vnd.google.colaboratory.intrinsic+json": {
              "type": "string"
            }
          },
          "metadata": {},
          "execution_count": 9
        }
      ]
    },
    {
      "cell_type": "code",
      "source": [
        "#bool()\n",
        "#Converts a value into a Boolean \n",
        "bool(0.5)"
      ],
      "metadata": {
        "colab": {
          "base_uri": "https://localhost:8080/"
        },
        "id": "Kedjgb-fBJip",
        "outputId": "fd5628e8-eb27-414d-d8d7-ecab0833c533"
      },
      "execution_count": 10,
      "outputs": [
        {
          "output_type": "execute_result",
          "data": {
            "text/plain": [
              "True"
            ]
          },
          "metadata": {},
          "execution_count": 10
        }
      ]
    },
    {
      "cell_type": "code",
      "source": [
        "#callable()\n",
        "#Tells if an object is callable\n",
        "callable([1,2])"
      ],
      "metadata": {
        "colab": {
          "base_uri": "https://localhost:8080/"
        },
        "id": "9VbkvKtbBJoy",
        "outputId": "79cd1d7d-3dbe-4f92-9fd6-6c97d3f4347b"
      },
      "execution_count": 11,
      "outputs": [
        {
          "output_type": "execute_result",
          "data": {
            "text/plain": [
              "False"
            ]
          },
          "metadata": {},
          "execution_count": 11
        }
      ]
    },
    {
      "cell_type": "code",
      "source": [
        "#classmethod()\n",
        "#Returns a class method for a given method\n",
        "\n",
        "class fruit:\n",
        "  def sayhi(self):\n",
        "    print(\"Hi, am a fruit\")\n",
        "fruit.sayhi = classmethod(fruit.sayhi)\n",
        "fruit.sayhi()"
      ],
      "metadata": {
        "colab": {
          "base_uri": "https://localhost:8080/"
        },
        "id": "IHAkXnGLAI7X",
        "outputId": "875c6b62-7d65-45b9-8219-09ed06e2c454"
      },
      "execution_count": 12,
      "outputs": [
        {
          "output_type": "stream",
          "name": "stdout",
          "text": [
            "Hi, am a fruit\n"
          ]
        }
      ]
    },
    {
      "cell_type": "code",
      "source": [
        "#dict()\n",
        "#Creates a dictionary\n"
      ],
      "metadata": {
        "id": "HgotUDevL6EU"
      },
      "execution_count": 14,
      "outputs": []
    },
    {
      "cell_type": "code",
      "source": [
        "#float()\n",
        "#Converts a value to a float\n",
        "float(3)"
      ],
      "metadata": {
        "id": "3sOaOPxFIMcE",
        "colab": {
          "base_uri": "https://localhost:8080/"
        },
        "outputId": "f5f6a939-0e5c-4bb3-8dce-32b64f7f1bdf"
      },
      "execution_count": 15,
      "outputs": [
        {
          "output_type": "execute_result",
          "data": {
            "text/plain": [
              "3.0"
            ]
          },
          "metadata": {},
          "execution_count": 15
        }
      ]
    },
    {
      "cell_type": "code",
      "source": [
        "#int()\n",
        "#Converts a value to an integer\n",
        "int()"
      ],
      "metadata": {
        "id": "LqFcj66CC64B"
      },
      "execution_count": null,
      "outputs": []
    },
    {
      "cell_type": "code",
      "source": [
        "#isinstance()\n",
        "#Returns true if the given variable belongs to a given class\n",
        "isinstance()"
      ],
      "metadata": {
        "id": "xey1jqIAC7Ne"
      },
      "execution_count": null,
      "outputs": []
    },
    {
      "cell_type": "code",
      "source": [
        "#issubclass()\n",
        "#Returns True if the first is a subclass of the other"
      ],
      "metadata": {
        "id": "k3TaK0hzC7bC"
      },
      "execution_count": null,
      "outputs": []
    },
    {
      "cell_type": "code",
      "source": [
        "#open()\n",
        "#Opens a file"
      ],
      "metadata": {
        "id": "-tAjleZlD5QQ"
      },
      "execution_count": null,
      "outputs": []
    },
    {
      "cell_type": "code",
      "source": [
        "#range()\n",
        "#Returns a oject from a start, stop, step\n",
        "\n",
        "for i in range(1,5):\n",
        "  print(i)\n",
        "\n"
      ],
      "metadata": {
        "colab": {
          "base_uri": "https://localhost:8080/"
        },
        "id": "fNSfUNLWD5Y9",
        "outputId": "4ab4de53-c2c1-42d1-d97c-e3b549d7db2c"
      },
      "execution_count": 18,
      "outputs": [
        {
          "output_type": "stream",
          "name": "stdout",
          "text": [
            "1\n",
            "2\n",
            "3\n",
            "4\n"
          ]
        }
      ]
    },
    {
      "cell_type": "code",
      "source": [
        "#zip()\n",
        "#Returns an iterator of tuples\n",
        "set(zip([1, 2, 3], ['a', 'b', 'c']))"
      ],
      "metadata": {
        "colab": {
          "base_uri": "https://localhost:8080/"
        },
        "id": "N7u5b3imD5cc",
        "outputId": "3cdcfdba-cbf2-4692-c4b2-752b3cf74f1e"
      },
      "execution_count": 19,
      "outputs": [
        {
          "output_type": "execute_result",
          "data": {
            "text/plain": [
              "{(1, 'a'), (2, 'b'), (3, 'c')}"
            ]
          },
          "metadata": {},
          "execution_count": 19
        }
      ]
    },
    {
      "cell_type": "markdown",
      "source": [
        "*range() function.*"
      ],
      "metadata": {
        "id": "w5Ga0TdXIDPp"
      }
    },
    {
      "cell_type": "code",
      "source": [
        "#Returns a range of objects\n",
        "list(range(5))"
      ],
      "metadata": {
        "colab": {
          "base_uri": "https://localhost:8080/"
        },
        "id": "HBUi3-HF_ZMK",
        "outputId": "7656884f-24ca-4ab6-8c6d-86dd64bf268a"
      },
      "execution_count": 25,
      "outputs": [
        {
          "output_type": "execute_result",
          "data": {
            "text/plain": [
              "[0, 1, 2, 3, 4]"
            ]
          },
          "metadata": {},
          "execution_count": 25
        }
      ]
    },
    {
      "cell_type": "code",
      "source": [
        "#range with 2 args (start, stop)\n",
        "list(range(1,5))"
      ],
      "metadata": {
        "colab": {
          "base_uri": "https://localhost:8080/"
        },
        "id": "0-RbDwVv_ZPK",
        "outputId": "4faca6a4-dd87-4adc-e20f-5150f9c41525"
      },
      "execution_count": 24,
      "outputs": [
        {
          "output_type": "execute_result",
          "data": {
            "text/plain": [
              "[1, 2, 3, 4]"
            ]
          },
          "metadata": {},
          "execution_count": 24
        }
      ]
    },
    {
      "cell_type": "code",
      "source": [
        "#range with 3 args (start, stop, step)\n",
        "list(range(1, 10, 2))"
      ],
      "metadata": {
        "colab": {
          "base_uri": "https://localhost:8080/"
        },
        "id": "GV6dWgif_ZdL",
        "outputId": "4ed554e6-1aab-4e4d-dd97-2d1f62fd1267"
      },
      "execution_count": 26,
      "outputs": [
        {
          "output_type": "execute_result",
          "data": {
            "text/plain": [
              "[1, 3, 5, 7, 9]"
            ]
          },
          "metadata": {},
          "execution_count": 26
        }
      ]
    },
    {
      "cell_type": "code",
      "source": [
        "#for loop \n",
        "for i in range(5):\n",
        "  print(i)"
      ],
      "metadata": {
        "colab": {
          "base_uri": "https://localhost:8080/"
        },
        "id": "Y82UIMZKHIr1",
        "outputId": "135442d2-5b86-4d68-bde1-733a5f28adcf"
      },
      "execution_count": 27,
      "outputs": [
        {
          "output_type": "stream",
          "name": "stdout",
          "text": [
            "0\n",
            "1\n",
            "2\n",
            "3\n",
            "4\n"
          ]
        }
      ]
    },
    {
      "cell_type": "markdown",
      "source": [
        "*eval() function.*\n",
        "\n",
        "Function that parses an expression and runs it as we execute the program."
      ],
      "metadata": {
        "id": "OdIPNipFIDSp"
      }
    },
    {
      "cell_type": "code",
      "source": [
        "# eval(expression, globals = None, locals = None)\n",
        "\n",
        "num = 7\n",
        "eval('num **3')"
      ],
      "metadata": {
        "colab": {
          "base_uri": "https://localhost:8080/"
        },
        "id": "6W_s6Uta_YMS",
        "outputId": "f0b0b6d5-1c26-4d84-ffa1-d644734101d6"
      },
      "execution_count": 33,
      "outputs": [
        {
          "output_type": "execute_result",
          "data": {
            "text/plain": [
              "343"
            ]
          },
          "metadata": {},
          "execution_count": 33
        }
      ]
    },
    {
      "cell_type": "markdown",
      "source": [
        "*exec() function*\n",
        "\n",
        "Executes a given source in the context  of globals \n",
        "\n",
        "It parses a set of statements if no error is found"
      ],
      "metadata": {
        "id": "aLoDLIdYIDXS"
      }
    },
    {
      "cell_type": "code",
      "source": [
        "code = input(' What shall we do today')\n",
        "for num in range(6):\n",
        "  print(num, num **2, num**3)\n",
        "  exec(code)"
      ],
      "metadata": {
        "id": "GohxL-rRIBJN",
        "colab": {
          "base_uri": "https://localhost:8080/"
        },
        "outputId": "ebc2525a-a493-4438-c449-2ce7585dc7fb"
      },
      "execution_count": 37,
      "outputs": [
        {
          "output_type": "stream",
          "name": "stdout",
          "text": [
            " What shall we do today1\n",
            "0 0 0\n",
            "1 1 1\n",
            "2 4 8\n",
            "3 9 27\n",
            "4 16 64\n",
            "5 25 125\n"
          ]
        }
      ]
    },
    {
      "cell_type": "markdown",
      "source": [
        "***Decorators***\n",
        "\n",
        "A function that adds functionality to another but does not modify it "
      ],
      "metadata": {
        "id": "aLHu6Y37IDb5"
      }
    },
    {
      "cell_type": "code",
      "source": [
        "#Simple decorator\n",
        "\n",
        "def wrap():\n",
        "  print('$$$$$')\n",
        "  func()\n",
        "  print('$$$$$')\n",
        "  return wrap"
      ],
      "metadata": {
        "id": "2f0XekLc_kov"
      },
      "execution_count": 39,
      "outputs": []
    },
    {
      "cell_type": "code",
      "source": [
        "#Function that devides two numbers\n",
        "\n",
        "def divide(a, b):\n",
        "  return(a/b)\n",
        "\n",
        "def decorator(func):\n",
        "  def wrapper(a, b):\n",
        "    if b == 0:\n",
        "      print(\"Can't divide by 0\")\n",
        "      return\n",
        "    return func(a, b)\n",
        "  return wrapper"
      ],
      "metadata": {
        "id": "5kVGPQF_IBXF"
      },
      "execution_count": 40,
      "outputs": []
    },
    {
      "cell_type": "code",
      "source": [
        "from decorator import decorate\n",
        "#Pie Syntax\n",
        "#Put the decorator's name (with a @ ) bbefore the function to decorate\n",
        "\n",
        "#@decorate\n",
        "def sayhello():\n",
        "  print('Hello')\n",
        "sayhello()"
      ],
      "metadata": {
        "id": "K5GsecfkIBaJ",
        "colab": {
          "base_uri": "https://localhost:8080/"
        },
        "outputId": "5922335f-3960-4daa-aeac-4f36b36e8baa"
      },
      "execution_count": 44,
      "outputs": [
        {
          "output_type": "stream",
          "name": "stdout",
          "text": [
            "Hello\n"
          ]
        }
      ]
    },
    {
      "cell_type": "markdown",
      "source": [
        "*Working with Itertools.*\n",
        "\n",
        "An object which can be iterated on/ one which can return an iterator"
      ],
      "metadata": {
        "id": "CAozcdiY_5cp"
      }
    },
    {
      "cell_type": "code",
      "source": [
        "#Iterable has the methods __len__ and __getitem__()\n",
        "list = [1, 2, 3]\n",
        "list.__len__()"
      ],
      "metadata": {
        "id": "Bmgux88xIBqh",
        "colab": {
          "base_uri": "https://localhost:8080/"
        },
        "outputId": "e6810ab9-41e5-4929-bc06-ba4ae58dc483"
      },
      "execution_count": 45,
      "outputs": [
        {
          "output_type": "execute_result",
          "data": {
            "text/plain": [
              "3"
            ]
          },
          "metadata": {},
          "execution_count": 45
        }
      ]
    },
    {
      "cell_type": "code",
      "source": [
        "#count()\n",
        "# Takes an integer to begin counting at then counts infinetely until stopped\n",
        "\n",
        "from itertools import count\n",
        "for num in count(7):\n",
        "  if num > 14: \n",
        "    break\n",
        "    print(num)"
      ],
      "metadata": {
        "id": "hAYOBK_hIBt6"
      },
      "execution_count": 46,
      "outputs": []
    },
    {
      "cell_type": "code",
      "source": [
        "#cycle()\n",
        "#if continously cycle over an iterable untill we break out of the loop\n",
        "\n",
        "from itertools import cycle\n",
        "count = 0\n",
        "for item in cycle(['blue', 'black', 'red', 'green']):\n",
        "  if count >7 :\n",
        "    break\n",
        "  print(item)\n",
        "  count +=1"
      ],
      "metadata": {
        "colab": {
          "base_uri": "https://localhost:8080/"
        },
        "id": "9BFWRIRGSCUr",
        "outputId": "32c97e04-60b4-4fc3-955e-fb2656fd8e7d"
      },
      "execution_count": 49,
      "outputs": [
        {
          "output_type": "stream",
          "name": "stdout",
          "text": [
            "blue\n",
            "black\n",
            "red\n",
            "green\n",
            "blue\n",
            "black\n",
            "red\n",
            "green\n"
          ]
        }
      ]
    },
    {
      "cell_type": "code",
      "source": [
        "#repeat()\n",
        "#Repeats an object infinitely  until we break out of it\n",
        "from itertools import repeat\n",
        "count = 0\n",
        "for item in repeat(7):\n",
        "  if count > 5:\n",
        "    break\n",
        "  print(item)\n",
        "  count += 1"
      ],
      "metadata": {
        "colab": {
          "base_uri": "https://localhost:8080/"
        },
        "id": "XxSJuO7LSsNG",
        "outputId": "b79d7f66-1baf-4fe1-bbff-7f1b7bf7b7fe"
      },
      "execution_count": 48,
      "outputs": [
        {
          "output_type": "stream",
          "name": "stdout",
          "text": [
            "7\n",
            "7\n",
            "7\n",
            "7\n",
            "7\n",
            "7\n"
          ]
        }
      ]
    }
  ]
}